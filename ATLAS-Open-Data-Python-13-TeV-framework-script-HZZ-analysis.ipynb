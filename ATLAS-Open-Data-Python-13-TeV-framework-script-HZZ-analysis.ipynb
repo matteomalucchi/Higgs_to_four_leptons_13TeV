{
 "cells": [
  {
   "cell_type": "markdown",
   "metadata": {},
   "source": [
    "<CENTER><img src=\"http://opendata.atlas.cern/DataAndTools/pictures/ATLASOD.gif\" style=\"width:50%\"></CENTER>"
   ]
  },
  {
   "cell_type": "markdown",
   "metadata": {},
   "source": [
    "<CENTER><h1>Get running the analysis of HZZ channel using the 13 TeV dataset in Python</h1></CENTER>"
   ]
  },
  {
   "cell_type": "markdown",
   "metadata": {},
   "source": [
    "**Introduction**\n",
    "Let's take a current ATLAS Open Data sample and create histograms:\n",
    "\n",
    "Import some Python packages"
   ]
  },
  {
   "cell_type": "code",
   "execution_count": null,
   "metadata": {},
   "outputs": [],
   "source": [
    "import os\n",
    "import datetime"
   ]
  },
  {
   "cell_type": "code",
   "execution_count": null,
   "metadata": {},
   "outputs": [
    {
     "name": "stdout",
     "output_type": "stream",
     "text": [
      "So Jun 26 17:55:23 CEST 2022\n",
      "\n"
     ]
    }
   ],
   "source": [
    "starttime = datetime.datetime.now()\n",
    "\n",
    "myCmd = os.popen('date').read()\n",
    "print(myCmd)"
   ]
  },
  {
   "cell_type": "markdown",
   "metadata": {},
   "source": [
    "## Get the code the 13TeV analysis\n",
    "Create a folder where the git clone will be stored"
   ]
  },
  {
   "cell_type": "code",
   "execution_count": null,
   "metadata": {},
   "outputs": [],
   "source": [
    "folder_demo = 'atlas-demo-HZZ'"
   ]
  },
  {
   "cell_type": "code",
   "execution_count": null,
   "metadata": {
    "scrolled": true
   },
   "outputs": [
    {
     "data": {
      "text/plain": [
       "256"
      ]
     },
     "execution_count": 4,
     "metadata": {},
     "output_type": "execute_result"
    }
   ],
   "source": [
    "command1 = 'mkdir '+folder_demo\n",
    "os.system(command1)"
   ]
  },
  {
   "cell_type": "markdown",
   "metadata": {},
   "source": [
    "Show the contents in the current folder, and checck your new folder is there"
   ]
  },
  {
   "cell_type": "code",
   "execution_count": null,
   "metadata": {},
   "outputs": [
    {
     "name": "stdout",
     "output_type": "stream",
     "text": [
      "total 132K\n",
      "drwxr-xr-x 3 student student 4.0K Feb 25  2020 atlas-demo-Hyy\n",
      "drwxr-xr-x 3 student student 4.0K Feb 25  2020 demo\n",
      "-rw-r--r-- 1 student student  14K Feb 26  2020 ATLAS-Open-Data-Python-13-TeV-framework-script-Hyy-analysis.ipynb\n",
      "-rw-r--r-- 1 student student  38K Feb 26  2020 ATLAS-Open-Data-cpp-13-TeV-framework-script-Hyy-analysis.ipynb\n",
      "-rw-r--r-- 1 student student  40K Feb 26  2020 ATLAS-Open-Data-BASH-13-TeV-framework-script-HZZ-analysis.ipynb\n",
      "drwxr-xr-x 3 student student 4.0K Jun 23 11:16 atlas-demo-HZZ\n",
      "drwxr-xr-x 3 student student 4.0K Jun 25 13:31 atlas-demo-HZZ1\n",
      "-rw-r--r-- 1 student student  19K Jun 26 17:55 ATLAS-Open-Data-Python-13-TeV-framework-script-HZZ-analysis.ipynb\n",
      "\n"
     ]
    }
   ],
   "source": [
    "myCmd = os.popen('ls -lhrt').read()\n",
    "print(myCmd)"
   ]
  },
  {
   "cell_type": "markdown",
   "metadata": {},
   "source": [
    "Print the current path/location"
   ]
  },
  {
   "cell_type": "code",
   "execution_count": null,
   "metadata": {},
   "outputs": [
    {
     "name": "stdout",
     "output_type": "stream",
     "text": [
      "/home/student/GIT-REPOS/notebooks-frameworks-opendata/13-TeV-examples\n",
      "\n"
     ]
    }
   ],
   "source": [
    "myCmd = os.popen('pwd').read()\n",
    "print(myCmd)"
   ]
  },
  {
   "cell_type": "markdown",
   "metadata": {},
   "source": [
    "Get into the folder which we just created"
   ]
  },
  {
   "cell_type": "code",
   "execution_count": null,
   "metadata": {},
   "outputs": [],
   "source": [
    "os.chdir(folder_demo+\"/\")"
   ]
  },
  {
   "cell_type": "markdown",
   "metadata": {},
   "source": [
    "Print the current path and check that you are really there"
   ]
  },
  {
   "cell_type": "code",
   "execution_count": null,
   "metadata": {},
   "outputs": [
    {
     "name": "stdout",
     "output_type": "stream",
     "text": [
      "/home/student/GIT-REPOS/notebooks-frameworks-opendata/13-TeV-examples/atlas-demo-HZZ1\n",
      "\n"
     ]
    }
   ],
   "source": [
    "myCmd = os.popen('pwd').read()\n",
    "print(myCmd)"
   ]
  },
  {
   "cell_type": "markdown",
   "metadata": {},
   "source": [
    "Clone the analysis code **(do this only once!)**"
   ]
  },
  {
   "cell_type": "code",
   "execution_count": null,
   "metadata": {},
   "outputs": [],
   "source": [
    "#myCmd = os.popen('git clone https://github.com/atlas-outreach-data-tools/atlas-outreach-cpp-framework-13tev.git').read()\n",
    "#print(myCmd)"
   ]
  },
  {
   "cell_type": "markdown",
   "metadata": {},
   "source": [
    "Get into the folder which contains the analysis code"
   ]
  },
  {
   "cell_type": "code",
   "execution_count": null,
   "metadata": {},
   "outputs": [],
   "source": [
    "os.chdir(\"atlas-outreach-cpp-framework-13tev/\")"
   ]
  },
  {
   "cell_type": "markdown",
   "metadata": {},
   "source": [
    "Print the current path and check that you are really there"
   ]
  },
  {
   "cell_type": "code",
   "execution_count": null,
   "metadata": {},
   "outputs": [
    {
     "name": "stdout",
     "output_type": "stream",
     "text": [
      "/home/student/GIT-REPOS/notebooks-frameworks-opendata/13-TeV-examples/atlas-demo-HZZ1/atlas-outreach-cpp-framework-13tev\n",
      "\n"
     ]
    }
   ],
   "source": [
    "myCmd = os.popen('pwd').read()\n",
    "print(myCmd)"
   ]
  },
  {
   "cell_type": "markdown",
   "metadata": {},
   "source": [
    "let's see the time"
   ]
  },
  {
   "cell_type": "code",
   "execution_count": null,
   "metadata": {},
   "outputs": [
    {
     "name": "stdout",
     "output_type": "stream",
     "text": [
      "So Jun 26 17:55:23 CEST 2022\n",
      "\n"
     ]
    }
   ],
   "source": [
    "myCmd = os.popen('date').read()\n",
    "print(myCmd)"
   ]
  },
  {
   "cell_type": "code",
   "execution_count": null,
   "metadata": {},
   "outputs": [
    {
     "name": "stdout",
     "output_type": "stream",
     "text": [
      "total 60K\n",
      "-rw-r--r--  1 student student  13K Jun 25 13:31 LICENSE\n",
      "-rw-r--r--  1 student student 5.2K Jun 25 13:31 CODE_OF_CONDUCT.md\n",
      "drwxr-xr-x 14 student student 4.0K Jun 25 13:31 Analysis\n",
      "-rwxr-xr-x  1 student student  370 Jun 25 13:31 welcome_web.sh\n",
      "-rwxr-xr-x  1 student student 1.7K Jun 25 13:31 welcome.sh\n",
      "-rw-r--r--  1 student student  11K Jun 25 13:31 README.md\n",
      "-rw-r--r--  1 student student 2.9K Jun 25 13:31 codemeta.json\n",
      "-rw-r--r--  1 student student 1.2K Jun 25 14:01 log\n",
      "drwxr-xr-x  5 student student 4.0K Jun 26 11:26 Plotting\n",
      "\n"
     ]
    }
   ],
   "source": [
    "myCmd = os.popen('ls -lhrt').read()\n",
    "print(myCmd)"
   ]
  },
  {
   "cell_type": "markdown",
   "metadata": {},
   "source": [
    "let's create the output folders **(do this only the first time with option 1)**"
   ]
  },
  {
   "cell_type": "code",
   "execution_count": null,
   "metadata": {},
   "outputs": [],
   "source": [
    "#command3 = \"echo \\\"1\\\" | ./welcome.sh>log\"\n",
    "#os.system(command3)"
   ]
  },
  {
   "cell_type": "code",
   "execution_count": null,
   "metadata": {},
   "outputs": [
    {
     "name": "stdout",
     "output_type": "stream",
     "text": [
      "total 244K\n",
      "-rwxr-xr-x 1 student student  615 Jun 25 13:31 run.sh\n",
      "-rw-r--r-- 1 student student 9.4K Jun 25 13:39 main_HZZAnalysis.C\n",
      "-rw-r--r-- 1 student student 7.1K Jun 25 13:40 main_HZZAnalysis_C.d\n",
      "-rw-r--r-- 1 student student 1.6K Jun 25 13:40 main_HZZAnalysis_C_ACLiC_dict_rdict.pcm\n",
      "-rwxr-xr-x 1 student student  23K Jun 25 13:40 main_HZZAnalysis_C.so\n",
      "-rw-r--r-- 1 student student  11K Jun 26 13:13 HZZAnalysis.h\n",
      "-rw-r--r-- 1 student student  12K Jun 26 17:50 HZZAnalysisHistograms.h\n",
      "-rw-r--r-- 1 student student 5.1K Jun 26 17:52 HZZAnalysis_C_ACLiC_dict_rdict.pcm\n",
      "-rwxr-xr-x 1 student student 115K Jun 26 17:52 HZZAnalysis_C.so\n",
      "drwxr-xr-x 2 student student 4.0K Jun 26 17:52 Output_HZZAnalysis\n",
      "-rw-r--r-- 1 student student 7.7K Jun 26 17:53 HZZAnalysis_C.d\n",
      "-rw-r--r-- 1 student student  266 Jun 26 17:53 log\n",
      "-rw-r--r-- 1 student student  28K Jun 26 17:55 HZZAnalysis.C\n",
      "\n"
     ]
    }
   ],
   "source": [
    "myCmd = os.popen('ls -lhrt Analysis/HZZAnalysis').read()\n",
    "print(myCmd)"
   ]
  },
  {
   "cell_type": "markdown",
   "metadata": {},
   "source": [
    "### Let's run an Analysis now\n",
    "### Select one analysis\n",
    "#### The options are:"
   ]
  },
  {
   "cell_type": "code",
   "execution_count": null,
   "metadata": {},
   "outputs": [],
   "source": [
    "#analysis=\"HWWAnalysis\"\n",
    "#analysis=\"HyyAnalysis\"\n",
    "analysis=\"HZZAnalysis\"\n",
    "#analysis=\"SingleTopAnalysis\"\n",
    "#analysis=\"SUSYAnalysis\"\n",
    "#analysis=\"TTbarAnalysis\"\n",
    "#analysis=\"WBosonAnalysis\"\n",
    "#analysis=\"WZDiBosonAnalysis\"\n",
    "#analysis=\"ZBosonAnalysis\"\n",
    "#analysis=\"ZPrimeBoostedAnalysis\"\n",
    "#analysis=\"ZTauTauAnalysis\"\n",
    "#analysis=\"ZZDiBosonAnalysis\""
   ]
  },
  {
   "cell_type": "code",
   "execution_count": null,
   "metadata": {},
   "outputs": [],
   "source": [
    "#os.chdir(\"atlas-demo-HZZ1/atlas-outreach-cpp-framework-13tev\")"
   ]
  },
  {
   "cell_type": "code",
   "execution_count": null,
   "metadata": {},
   "outputs": [],
   "source": [
    "#command3 = \"echo \\\"1\\\" | ./welcome.sh>log\"\n",
    "#os.system(command3)"
   ]
  },
  {
   "cell_type": "code",
   "execution_count": null,
   "metadata": {},
   "outputs": [],
   "source": [
    "#os.chdir(\"Analysis/\"+analysis)"
   ]
  },
  {
   "cell_type": "code",
   "execution_count": null,
   "metadata": {},
   "outputs": [
    {
     "name": "stdout",
     "output_type": "stream",
     "text": [
      "/home/student/GIT-REPOS/notebooks-frameworks-opendata/13-TeV-examples/atlas-demo-HZZ1/atlas-outreach-cpp-framework-13tev\n",
      "\n"
     ]
    }
   ],
   "source": [
    "myCmd = os.popen('pwd').read()\n",
    "print(myCmd)"
   ]
  },
  {
   "cell_type": "code",
   "execution_count": null,
   "metadata": {},
   "outputs": [
    {
     "name": "stdout",
     "output_type": "stream",
     "text": [
      "total 60K\n",
      "-rw-r--r--  1 student student  13K Jun 25 13:31 LICENSE\n",
      "-rw-r--r--  1 student student 5.2K Jun 25 13:31 CODE_OF_CONDUCT.md\n",
      "drwxr-xr-x 14 student student 4.0K Jun 25 13:31 Analysis\n",
      "-rwxr-xr-x  1 student student  370 Jun 25 13:31 welcome_web.sh\n",
      "-rwxr-xr-x  1 student student 1.7K Jun 25 13:31 welcome.sh\n",
      "-rw-r--r--  1 student student  11K Jun 25 13:31 README.md\n",
      "-rw-r--r--  1 student student 2.9K Jun 25 13:31 codemeta.json\n",
      "-rw-r--r--  1 student student 1.2K Jun 25 14:01 log\n",
      "drwxr-xr-x  5 student student 4.0K Jun 26 11:26 Plotting\n",
      "\n"
     ]
    }
   ],
   "source": [
    "myCmd = os.popen('ls -lhrt').read()\n",
    "print(myCmd)"
   ]
  },
  {
   "cell_type": "markdown",
   "metadata": {},
   "source": [
    "### Run the C++ code now\n",
    "Please, note that we are writing the output in a log file.\n",
    "(This file can be inspected in real time in a terminal)"
   ]
  },
  {
   "cell_type": "markdown",
   "metadata": {},
   "source": [
    "Move from directory Plotting to HZZAnalysis where I have run.sh"
   ]
  },
  {
   "cell_type": "code",
   "execution_count": null,
   "metadata": {},
   "outputs": [],
   "source": [
    "os.chdir(\"Analysis/HZZAnalysis\")"
   ]
  },
  {
   "cell_type": "code",
   "execution_count": null,
   "metadata": {},
   "outputs": [
    {
     "data": {
      "text/plain": [
       "0"
      ]
     },
     "execution_count": 23,
     "metadata": {},
     "output_type": "execute_result"
    }
   ],
   "source": [
    "command4 = \"echo \\\"0\\n0\\\" | ./run.sh >log\"\n",
    "os.system(command4)"
   ]
  },
  {
   "cell_type": "markdown",
   "metadata": {},
   "source": [
    "#### Now the code is done (I hope you see a 0 as output :)"
   ]
  },
  {
   "cell_type": "code",
   "execution_count": null,
   "metadata": {},
   "outputs": [],
   "source": [
    "os.chdir(\"../../Plotting/\")"
   ]
  },
  {
   "cell_type": "code",
   "execution_count": null,
   "metadata": {},
   "outputs": [
    {
     "name": "stdout",
     "output_type": "stream",
     "text": [
      "/home/student/GIT-REPOS/notebooks-frameworks-opendata/13-TeV-examples/atlas-demo-HZZ1/atlas-outreach-cpp-framework-13tev/Plotting\n",
      "\n"
     ]
    }
   ],
   "source": [
    "myCmd = os.popen('pwd').read()\n",
    "print(myCmd)"
   ]
  },
  {
   "cell_type": "markdown",
   "metadata": {},
   "source": [
    "### Let's run the Plotting code\n",
    "### Select the right analysis\n",
    "#### The options are:\n",
    "0 = WBosonAnalysis\n",
    "\n",
    "1 = ZBosonAnalysis\n",
    "\n",
    "2 = TTbarAnalysis\n",
    "\n",
    "3 = SingleTopAnalysis\n",
    "\n",
    "4 = WZDiBosonAnalysis\n",
    "\n",
    "5 = ZZDiBosonAnalysis\n",
    "\n",
    "6 = HWWAnalysis\n",
    "\n",
    "7 = HZZAnalysis\n",
    "\n",
    "8 = ZTauTauAnalysis\n",
    "\n",
    "9 = HyyAnalysis\n",
    "\n",
    "10 = SUSYAnalysis\n",
    "\n",
    "11 = ZPrimeBoostedAnalysis"
   ]
  },
  {
   "cell_type": "code",
   "execution_count": null,
   "metadata": {},
   "outputs": [
    {
     "data": {
      "text/plain": [
       "0"
      ]
     },
     "execution_count": 26,
     "metadata": {},
     "output_type": "execute_result"
    }
   ],
   "source": [
    "command5 = \"echo \\\"7\\n0\\\" | ./plotme.sh>log\"\n",
    "os.system(command5)"
   ]
  },
  {
   "cell_type": "code",
   "execution_count": null,
   "metadata": {},
   "outputs": [
    {
     "name": "stdout",
     "output_type": "stream",
     "text": [
      "-rw-r--r-- 1 student student 19K Jun 26 17:57 histograms/hist_Z1_eta.png\n",
      "-rw-r--r-- 1 student student 19K Jun 26 17:57 histograms/hist_Z1_phi.png\n",
      "-rw-r--r-- 1 student student 22K Jun 26 17:57 histograms/hist_Z1_pt.png\n",
      "-rw-r--r-- 1 student student 19K Jun 26 17:57 histograms/hist_Z2_eta.png\n",
      "-rw-r--r-- 1 student student 19K Jun 26 17:57 histograms/hist_Z2_phi.png\n",
      "-rw-r--r-- 1 student student 22K Jun 26 17:57 histograms/hist_Z2_pt.png\n",
      "-rw-r--r-- 1 student student 21K Jun 26 17:57 histograms/hist_eta_jet1.png\n",
      "-rw-r--r-- 1 student student 21K Jun 26 17:57 histograms/hist_eta_jet2.png\n",
      "-rw-r--r-- 1 student student 23K Jun 26 17:57 histograms/mass_four_lep.png\n",
      "-rw-r--r-- 1 student student 25K Jun 26 17:57 histograms/mass_ext_four_lep.png\n",
      "-rw-r--r-- 1 student student 20K Jun 26 17:57 histograms/hist_pt_jet3.png\n",
      "-rw-r--r-- 1 student student 21K Jun 26 17:57 histograms/hist_pt_jet2.png\n",
      "-rw-r--r-- 1 student student 23K Jun 26 17:57 histograms/hist_pt_jet1.png\n",
      "-rw-r--r-- 1 student student 19K Jun 26 17:57 histograms/hist_phi_jet3.png\n",
      "-rw-r--r-- 1 student student 19K Jun 26 17:57 histograms/hist_phi_jet2.png\n",
      "-rw-r--r-- 1 student student 20K Jun 26 17:57 histograms/hist_phi_jet1.png\n",
      "-rw-r--r-- 1 student student 19K Jun 26 17:57 histograms/hist_n_jets.png\n",
      "-rw-r--r-- 1 student student 25K Jun 26 17:57 histograms/hist_mLL2.png\n",
      "-rw-r--r-- 1 student student 23K Jun 26 17:57 histograms/hist_mLL1.png\n",
      "-rw-r--r-- 1 student student 21K Jun 26 17:57 histograms/hist_fourlepz0_sin.png\n",
      "-rw-r--r-- 1 student student 23K Jun 26 17:57 histograms/hist_fourlepz0.png\n",
      "-rw-r--r-- 1 student student 22K Jun 26 17:57 histograms/hist_fourleptpt.png\n",
      "-rw-r--r-- 1 student student 24K Jun 26 17:57 histograms/hist_fourlept_pt_is.png\n",
      "-rw-r--r-- 1 student student 22K Jun 26 17:57 histograms/hist_fourlept_ptc.png\n",
      "-rw-r--r-- 1 student student 19K Jun 26 17:57 histograms/hist_fourleptphi.png\n",
      "-rw-r--r-- 1 student student 19K Jun 26 17:57 histograms/hist_fourleptID.png\n",
      "-rw-r--r-- 1 student student 22K Jun 26 17:57 histograms/hist_fourlept_et_is.png\n",
      "-rw-r--r-- 1 student student 22K Jun 26 17:57 histograms/hist_fourlept_etc.png\n",
      "-rw-r--r-- 1 student student 21K Jun 26 17:57 histograms/hist_fourlepteta.png\n",
      "-rw-r--r-- 1 student student 22K Jun 26 17:57 histograms/hist_fourleptE.png\n",
      "-rw-r--r-- 1 student student 18K Jun 26 17:57 histograms/hist_fourleptch.png\n",
      "-rw-r--r-- 1 student student 22K Jun 26 17:57 histograms/hist_fourlepsys_y.png\n",
      "-rw-r--r-- 1 student student 23K Jun 26 17:57 histograms/hist_fourlepsys_pt.png\n",
      "-rw-r--r-- 1 student student 19K Jun 26 17:57 histograms/hist_fourlepsys_phi.png\n",
      "-rw-r--r-- 1 student student 20K Jun 26 17:57 histograms/hist_fourlepsys_eta.png\n",
      "-rw-r--r-- 1 student student 20K Jun 26 17:57 histograms/hist_fourlepd0_sig.png\n",
      "-rw-r--r-- 1 student student 20K Jun 26 17:57 histograms/hist_fourlepd0.png\n",
      "-rw-r--r-- 1 student student 18K Jun 26 17:57 histograms/hist_eta_jet3.png\n",
      "\n"
     ]
    }
   ],
   "source": [
    "myCmd = os.popen('ls -lhrt histograms/*png').read()\n",
    "print(myCmd)"
   ]
  },
  {
   "cell_type": "markdown",
   "metadata": {},
   "source": [
    "<CENTER>\n",
    "    <h2> The four-leptons mass </h2>\n",
    "    <img src=\"atlas-demo-HZZ/atlas-outreach-cpp-framework-13tev/Plotting/histograms/mass_four_lep.png\"  alt=\"4lep mass\" width=\"560\" height=\"400\">\n",
    "</CENTER>"
   ]
  },
  {
   "cell_type": "code",
   "execution_count": null,
   "metadata": {},
   "outputs": [
    {
     "name": "stdout",
     "output_type": "stream",
     "text": [
      "So Jun 26 17:57:48 CEST 2022\n",
      "\n",
      "Analysis finished in  2 min  25 s\n"
     ]
    }
   ],
   "source": [
    "myCmd = os.popen('date').read()\n",
    "print(myCmd)\n",
    "endtime = datetime.datetime.now()\n",
    "print(\"Analysis finished in % 2d min % 2d s\" %(((endtime - starttime).seconds)/60,((endtime - starttime).seconds)%60))"
   ]
  },
  {
   "cell_type": "markdown",
   "metadata": {},
   "source": [
    "### Done!"
   ]
  }
 ],
 "metadata": {
  "kernelspec": {
   "display_name": "Python 3.9.13 64-bit (windows store)",
   "language": "python",
   "name": "python3"
  },
  "language_info": {
   "codemirror_mode": {
    "name": "ipython",
    "version": 3
   },
   "file_extension": ".py",
   "mimetype": "text/x-python",
   "name": "python",
   "nbconvert_exporter": "python",
   "pygments_lexer": "ipython3",
   "version": "3.9.13"
  },
  "vscode": {
   "interpreter": {
    "hash": "ac7f549d6b1a2afa8e1ae4cd38e509d27ab99f15dcde1e3ff006a021f41fdfde"
   }
  }
 },
 "nbformat": 4,
 "nbformat_minor": 1
}
